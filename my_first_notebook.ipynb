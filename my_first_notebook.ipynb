{
 "cells": [
  {
   "cell_type": "code",
   "execution_count": 2,
   "metadata": {},
   "outputs": [
    {
     "data": {
      "text/plain": [
       "11"
      ]
     },
     "execution_count": 2,
     "metadata": {},
     "output_type": "execute_result"
    }
   ],
   "source": [
    "# Trying Python's built-in add function\n",
    "\n",
    "3 + 8"
   ]
  },
  {
   "cell_type": "code",
   "execution_count": 3,
   "metadata": {},
   "outputs": [
    {
     "name": "stdout",
     "output_type": "stream",
     "text": [
      "Something Wicked This Way Comes\n"
     ]
    }
   ],
   "source": [
    "# Seeing if concatenating strings works\n",
    "\n",
    "a = \"Something Wicked\"\n",
    "b = \" This Way Comes\"\n",
    "print(a + b)\n"
   ]
  },
  {
   "cell_type": "code",
   "execution_count": 4,
   "metadata": {},
   "outputs": [
    {
     "name": "stdout",
     "output_type": "stream",
     "text": [
      "Schlemiel, Schlamazel, Hassenfeffer Incorporated!\n"
     ]
    }
   ],
   "source": [
    "#Good ol' print function testing:\n",
    "print(\"Schlemiel, Schlamazel, Hassenfeffer Incorporated!\")"
   ]
  },
  {
   "cell_type": "code",
   "execution_count": null,
   "metadata": {},
   "outputs": [],
   "source": [
    "# 3 jupyter notebook shortcuts\n",
    "\n",
    "shift + enter = runs code in the cell\n",
    "ctrl + s = saves the cell as code the first time, but if you keep ctrl-s-ing it, it will save as html.\n",
    "A from command status will add a cell above current cell\n",
    "B from command staus will add a cell below current cell\n",
    "D,D from command status will delete the current cell\n"
   ]
  }
 ],
 "metadata": {
  "kernelspec": {
   "display_name": "Python 3",
   "language": "python",
   "name": "python3"
  },
  "language_info": {
   "codemirror_mode": {
    "name": "ipython",
    "version": 3
   },
   "file_extension": ".py",
   "mimetype": "text/x-python",
   "name": "python",
   "nbconvert_exporter": "python",
   "pygments_lexer": "ipython3",
   "version": "3.7.4"
  }
 },
 "nbformat": 4,
 "nbformat_minor": 2
}
