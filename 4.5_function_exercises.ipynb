{
 "cells": [
  {
   "cell_type": "code",
   "execution_count": 6,
   "metadata": {},
   "outputs": [
    {
     "data": {
      "text/plain": [
       "True"
      ]
     },
     "execution_count": 6,
     "metadata": {},
     "output_type": "execute_result"
    }
   ],
   "source": [
    "#1. is_two() - function that returns True if the input is 2, 'two', or '2'\n",
    "def is_two(num):\n",
    "    \"\"\" Returns True if the input is 2, 'two,' or '2' \"\"\"\n",
    "    return num == 2 or num == 'two' or num == '2'\n",
    "\n",
    "is_two('2')"
   ]
  },
  {
   "cell_type": "code",
   "execution_count": 17,
   "metadata": {},
   "outputs": [
    {
     "data": {
      "text/plain": [
       "True"
      ]
     },
     "execution_count": 17,
     "metadata": {},
     "output_type": "execute_result"
    }
   ],
   "source": [
    "#2. is_vowel() - returns true if the passed string is a vowel, false if it's not\n",
    "def is_vowel(str):\n",
    "    \"\"\" \n",
    "    Returns True or False indicating if the string being passed into the function is a vowel\n",
    "    \"\"\"\n",
    "    vowels = 'AEIOUaeiou'\n",
    "    for letter in str:\n",
    "        if letter in vowels:\n",
    "            return True\n",
    "        return False\n",
    "    \n",
    "is_vowel('e')"
   ]
  },
  {
   "cell_type": "code",
   "execution_count": 19,
   "metadata": {},
   "outputs": [
    {
     "data": {
      "text/plain": [
       "False"
      ]
     },
     "execution_count": 19,
     "metadata": {},
     "output_type": "execute_result"
    }
   ],
   "source": [
    "#3. is_consonant() function\n",
    "def is_consonant(str):\n",
    "    \"\"\"\n",
    "    Returns T or F to see if the string being passed is a consonant or not\n",
    "    \"\"\"\n",
    "    # using is_vowel() code:\n",
    "    vowels = 'AEIOUaeiou'\n",
    "    for letter in str:\n",
    "        if letter not in vowels:\n",
    "            return True\n",
    "        return False\n",
    "\n",
    "is_consonant('A')\n"
   ]
  },
  {
   "cell_type": "code",
   "execution_count": 32,
   "metadata": {},
   "outputs": [
    {
     "name": "stdout",
     "output_type": "stream",
     "text": [
      "Bennybenassi\n"
     ]
    }
   ],
   "source": [
    "#4. Capitalizing function\n",
    "def cappaconsa(word):\n",
    "    \"\"\"\n",
    "    Takes the string argument and returns it with the first letter uppercased\n",
    "    IF that first letter is a consonant\n",
    "    \"\"\"\n",
    "    vowels = list('aeiouAEIOU')\n",
    "    for ltr in word:\n",
    "        if ltr[0] not in vowels:\n",
    "            print(word.title())\n",
    "        else:\n",
    "            print(word)\n",
    "        return \n",
    "    \n",
    "cappaconsa('bennybenassi')"
   ]
  },
  {
   "cell_type": "code",
   "execution_count": 34,
   "metadata": {},
   "outputs": [
    {
     "data": {
      "text/plain": [
       "4.5"
      ]
     },
     "execution_count": 34,
     "metadata": {},
     "output_type": "execute_result"
    }
   ],
   "source": [
    "#5. calculate_tip() function\n",
    "def calculate_tip(total_bill, percentage):\n",
    "    \"\"\"\n",
    "    Takes a certain percentage of a total bill and returns how much\n",
    "    to tip \n",
    "    \"\"\"\n",
    "    return total_bill * percentage / 100\n",
    "\n",
    "calculate_tip(30.00, 15)"
   ]
  },
  {
   "cell_type": "code",
   "execution_count": 36,
   "metadata": {},
   "outputs": [
    {
     "data": {
      "text/plain": [
       "27.775"
      ]
     },
     "execution_count": 36,
     "metadata": {},
     "output_type": "execute_result"
    }
   ],
   "source": [
    "#6. apply_discount() function\n",
    "def apply_discount(orig_price, disc_perc):\n",
    "    \"\"\"\n",
    "    Returns the new price of an item after a certain percentage\n",
    "    discount is applied to the original price\n",
    "    \"\"\"\n",
    "    return orig_price - (orig_price * disc_perc / 100)\n",
    "\n",
    "apply_discount(50.50, 45)\n"
   ]
  },
  {
   "cell_type": "code",
   "execution_count": 1,
   "metadata": {},
   "outputs": [
    {
     "data": {
      "text/plain": [
       "100000000"
      ]
     },
     "execution_count": 1,
     "metadata": {},
     "output_type": "execute_result"
    }
   ],
   "source": [
    "#7. handle_commas() function\n",
    "# def handle_commas(number_string):\n",
    "#     \"\"\"\n",
    "#     Accepts a number string that contains commas and returns it as an output\n",
    "#     \"\"\"\n",
    "#     if type(num) == str:\n",
    "#         int(str(num))\n",
    "#     return num\n",
    "\n",
    "# handle_commas(\"100,000,000\")\n",
    "\n",
    "#Above solution kept asking for num to be defined and I couldn't work my way around that.\n",
    "\n",
    "# Ryan's answer:\n",
    "def handle_commas(numeric_string):\n",
    "    string_without_commas = numeric_string.replace(\",\" , \"\")\n",
    "    actual_number = int(string_without_commas)\n",
    "    return actual_number\n",
    "\n",
    "handle_commas(\"100,000,000\")"
   ]
  },
  {
   "cell_type": "code",
   "execution_count": 67,
   "metadata": {},
   "outputs": [
    {
     "name": "stdout",
     "output_type": "stream",
     "text": [
      "A\n"
     ]
    }
   ],
   "source": [
    "#8. get_letter_grade() function:\n",
    "def get_letter_grade(num):\n",
    "    \"\"\"\n",
    "    Accepts a number and returns the letter grade corresponding to that number\n",
    "    \"\"\"\n",
    "    if num >= 90:\n",
    "        print(\"A\")\n",
    "    elif num >= 80:\n",
    "        print(\"B\")\n",
    "    elif num >= 70:\n",
    "        print(\"C\")\n",
    "    elif num >= 60:\n",
    "        print(\"D\")\n",
    "    else:\n",
    "        print(\"F\")\n",
    "    return \n",
    "\n",
    "get_letter_grade(95)"
   ]
  },
  {
   "cell_type": "code",
   "execution_count": 82,
   "metadata": {},
   "outputs": [
    {
     "data": {
      "text/plain": [
       "\"Jnny sys, 'trn ff th rd.'  Jnny sys, 'trn ff th lghts.'\""
      ]
     },
     "execution_count": 82,
     "metadata": {},
     "output_type": "execute_result"
    }
   ],
   "source": [
    "#9. remove_vowels() function:\n",
    "def remove_vowels(word):\n",
    "    \"\"\"\n",
    "    Returns the string in the parameter after stripping it of its vowels\n",
    "    \"\"\"\n",
    "    new_word = []\n",
    "    vowels = \"aeiouAEIOU\"\n",
    "    for ltr in word:\n",
    "        if ltr not in vowels:\n",
    "            new_word.append(ltr)\n",
    "    return \"\".join(new_word)\n",
    "\n",
    "remove_vowels(\"Jenny says, 'turn off the radio.'  Jenny says, 'turn off the lights.'\")"
   ]
  },
  {
   "cell_type": "code",
   "execution_count": 4,
   "metadata": {},
   "outputs": [
    {
     "data": {
      "text/plain": [
       "'bliesn_dkiekkeit__lelto'"
      ]
     },
     "execution_count": 4,
     "metadata": {},
     "output_type": "execute_result"
    }
   ],
   "source": [
    "#10. normalize_name() function\n",
    "\n",
    "# Incorrect code\n",
    "# def normalize_name(stuff):\n",
    "#     \"\"\"\n",
    "#     Removes invalid python identifiers, makes all strings lowercase, strips all whitespace,\n",
    "#     and replaces spaces with underscores\n",
    "#     \"\"\"\n",
    "#     stuff = stuff.replace(\" \", \"_\")\n",
    "#     for i in stuff:\n",
    "#         i = i.rstrip()\n",
    "#         i = i.lstrip()\n",
    "#     return stuff.lower()\n",
    "\n",
    "# normalize_name(\"bliesn# dkIEKkeit  -lelto\")\n",
    "\n",
    "#totally missed the elimination of special characters as 'invalid python identifyers.\n",
    "#redoing to include Ryan's remove_speical_characters function:\n",
    "def remove_special_characters(string):\n",
    "    return ''.join([c for c in string if c.isalnum() or c == \" \"])\n",
    "#\n",
    "def normalize_name(string):\n",
    "    without_special_chars = remove_special_characters(string)\n",
    "    return without_special_chars.lower().strip().replace(\" \", \"_\")\n",
    "\n",
    "normalize_name(\"bliesn# dkIEKkeit  -lelto\")"
   ]
  },
  {
   "cell_type": "code",
   "execution_count": 111,
   "metadata": {},
   "outputs": [
    {
     "data": {
      "text/plain": [
       "[1, 3, 6, 10]"
      ]
     },
     "execution_count": 111,
     "metadata": {},
     "output_type": "execute_result"
    }
   ],
   "source": [
    "#11. cumsum() function\n",
    "def cumsum(lst_of_nums):\n",
    "    \"\"\"\n",
    "    Takes a list of numbers and returns their cumulative sum - the sum of all numbers\n",
    "    as you work your way down the list\n",
    "    \"\"\"\n",
    "    total = 0\n",
    "    sums = []\n",
    "    for i in lst_of_nums:\n",
    "        total = total + i\n",
    "        sums.append(total)\n",
    "    return sums\n",
    "\n",
    "cumsum([1, 2, 3, 4])\n",
    "    "
   ]
  },
  {
   "cell_type": "code",
   "execution_count": 119,
   "metadata": {},
   "outputs": [
    {
     "name": "stdout",
     "output_type": "stream",
     "text": [
      "16:30:45\n"
     ]
    }
   ],
   "source": [
    "#Bonus 1: convert standard 12-hour time to military 24-hour time\n",
    "def twelve_to_24(thyme):\n",
    "    \"\"\"\n",
    "    Function to take an input of standard time and return it in military time\n",
    "    \"\"\"\n",
    "    if thyme[-2:] == \"AM\" and thyme[:2] == \"12\":\n",
    "        return \"00\" + thyme[2:-2]\n",
    "    elif thyme[-2:] == \"AM\":\n",
    "        return thyme[:-2]\n",
    "    elif thyme[-2:] == \"PM\" and thyme[:2] == \"12\":\n",
    "        return thyme[:-2]\n",
    "    else:\n",
    "        return str(int(thyme[:2]) + 12) + thyme[2:8]\n",
    "print(twelve_to_24(\"04:30:45 PM\"))\n",
    "    \n",
    "#Got lost on how to do this without importing time libraries.  Relied heavily on internet for answer"
   ]
  },
  {
   "cell_type": "code",
   "execution_count": null,
   "metadata": {},
   "outputs": [],
   "source": [
    "#Bonus of Bonus 1:\n",
    "#Convert the military time above back to 12-hour time:\n",
    "\n",
    "deft twenty_four_to_12(string):\n",
    "    \"\"\"\n",
    "    Converts time from 24-hour back to 12-hr (AM/PM)\n",
    "    \n",
    "    \"\"\""
   ]
  },
  {
   "cell_type": "code",
   "execution_count": 1,
   "metadata": {},
   "outputs": [],
   "source": [
    "#Bonus 2: col_index() function:\n",
    "import csv\n",
    "def col_index(col_name):\n",
    "    \"\"\"\n",
    "    Function to accept an spreadsheet column name and return the index number\n",
    "    of that column\n",
    "    \"\"\"\n",
    "    "
   ]
  },
  {
   "cell_type": "code",
   "execution_count": null,
   "metadata": {},
   "outputs": [],
   "source": []
  }
 ],
 "metadata": {
  "kernelspec": {
   "display_name": "Python 3",
   "language": "python",
   "name": "python3"
  },
  "language_info": {
   "codemirror_mode": {
    "name": "ipython",
    "version": 3
   },
   "file_extension": ".py",
   "mimetype": "text/x-python",
   "name": "python",
   "nbconvert_exporter": "python",
   "pygments_lexer": "ipython3",
   "version": "3.7.4"
  }
 },
 "nbformat": 4,
 "nbformat_minor": 2
}
